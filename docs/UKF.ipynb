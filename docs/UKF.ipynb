{
 "cells": [
  {
   "cell_type": "markdown",
   "id": "f6d4a874",
   "metadata": {},
   "source": [
    "# UKF"
   ]
  },
  {
   "cell_type": "markdown",
   "id": "ec2c91c3",
   "metadata": {},
   "source": [
    "## 一、介绍\n",
    "无迹Kalman滤波(Unscented Kalman Filter, UKF)是一种非线性滤波算法，与EKF、PF等其他的非线性滤波算法对比如下所示。\n",
    "\n",
    "<table align=\"center\">\n",
    "<tr>\n",
    "    <td align=\"center\">滤波方法</td>\n",
    "    <td align=\"center\">速度</td>\n",
    "    <td>精度</td>\n",
    "    <td align=\"center\">稳定性</td>\n",
    "</tr>\n",
    "<tr>\n",
    "    <td>扩展卡尔曼滤波EKF</td><td>快</td><td>低</td><td>较稳定</td>\n",
    "</tr>\n",
    "<tr>\n",
    "    <td>粒子滤波PF</td><td>慢</td><td>高</td><td>较稳定</td>\n",
    "</tr>\n",
    "<tr>\n",
    "    <td>无迹卡尔曼滤波UKF</td><td>较快</td><td>教高</td><td>不稳定，容易崩溃</td>\n",
    "</tr>\n",
    "</table>\n",
    "\n",
    "EKF思想是对非线性函数进行线性近似：对状态转移函数、观测函数Taylor展开，用线性函数（jacobi矩阵）近似非线性函数。\n",
    "UKF思想是对概率分布近似(另一种线性近似方式)：$Y = f(x) \\rightarrow \\mathbf{E}[Y] = \\mathbf{E}[f(x)] \\ \\mathbf{E}[Y^2] = \\mathbf{E}[f(x)^2]$。若能通过某种方式直接求出$Y$的期望和方差，用一个**期望方差与其相同的正态分布去近似**。UKF通过在状态空间$X$采样代表点(也被称为Sigma点)、并赋予权重来近似原始概率分布，Sigma点在经过变换后用来计算新分布的均值与方差。\n",
    "\n",
    "EKF具有一阶精度，即当变换$f(x) = x^{2}$是二阶以上函数时，EKF不能准确计算状态转以后均值和方差。只有当$f(x) = ax + b$为一阶情况时，EKF才能准确计算均值和方差；UKF具有二阶精度，即当$f(x) = ax^2 +bx + c$时，可以通过无迹变换准确计算均值，但不能准确计算方差(一般称UKF具有二阶精度)。\n"
   ]
  },
  {
   "cell_type": "markdown",
   "id": "c6acc2c1",
   "metadata": {},
   "source": [
    "## 二、无迹变换(unscented transform, UT变换)\n",
    "\n",
    "无迹变换执行步骤为:\n",
    "1. 计算Sigma点集\n",
    "2. 为每个Sigma点分配权重\n",
    "3. 把所有Sigma点带入非线性函数f\n",
    "4. 利用转换的点与权重计算新的高斯分布，得到新高斯分布的均值与方差\n"
   ]
  }
 ],
 "metadata": {
  "kernelspec": {
   "display_name": "Python 3 (ipykernel)",
   "language": "python",
   "name": "python3"
  },
  "language_info": {
   "codemirror_mode": {
    "name": "ipython",
    "version": 3
   },
   "file_extension": ".py",
   "mimetype": "text/x-python",
   "name": "python",
   "nbconvert_exporter": "python",
   "pygments_lexer": "ipython3",
   "version": "3.9.12"
  }
 },
 "nbformat": 4,
 "nbformat_minor": 5
}
